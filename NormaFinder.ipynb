{
 "cells": [
  {
   "cell_type": "markdown",
   "metadata": {},
   "source": [
    "## Script for the calculation of the normalization constant\n",
    "\n",
    "\n",
    "In this script, I calculate the normalization constant we have to use in order to get the same flux above $1 GeV$ in the following three cases: a Dark Matter particle with mass $m_{dm} = 30$GeV, a DM particle with mass $m_{dm} =10$GeV and finally DM particle with mass $m_{dm} = 100$GeV. \n",
    "\n",
    "The flux above $1$GeV is:\n",
    "\n",
    "\\begin{equation}\n",
    "F_i = \\int_{1 GeV}^{m_{dm,i}} \\frac{dN}{dE}dE = \\int_{\\log 1 GeV}^{\\log m_{dm,i}} \\frac{dN}{d \\log E}d\\log E, \\qquad m_{dm,i} = 10 GeV,\\, 30 GeV, \\, 100 GeV.\n",
    "\\end{equation}\n",
    "\n",
    "\n",
    "Then, what i'm going to do, after calculating $F_{10},\\, F_{30}$ is to find the ratio $\\frac{F_{30}}{F_{10}}$. This will serve as our normilzation factor: I will first compute the number of events per energy bin for the case of a $10$GeV dark matter exactly as I did for the case of the $30$GeV dark matter (including the normalization factor we used there) but I will also multiply the final result by that normalization factor ${\\cal{N}} \\equiv F_{30}/F_{10}$. \n",
    "Then I will repeat the same for the case of  a $100$GeV particle and find again ${\\cal{N}} \\equiv F_{30}/F_{100}$\n",
    "\n",
    "\n",
    "So, let's calculte 'em!!\n"
   ]
  },
  {
   "cell_type": "code",
   "execution_count": 19,
   "metadata": {
    "collapsed": false
   },
   "outputs": [],
   "source": [
    "import numpy as np \n",
    "\n",
    "#We open and read the file containing the spectrum. The file should be at the same directory as our script/notebook\n",
    "mass, energ, bibibar = np.loadtxt(\"AtProduction_gammas.dat\", usecols=(0,1,13), unpack=3)\n",
    "\n",
    "\n",
    "#since we don't know the size of the file, let's find the length of the columns. Find the upper limit; \n",
    "#when then we are going to run a for loop, we will know the range\n",
    "a = np.shape(mass)\n",
    "uplim=a[0]-1\n",
    "\n",
    "\n",
    "#From now on we will need to play with two different masses. Namely, 10GeV and 30 GeV. We will denote everything related \n",
    "#the 30 GeV dark matter by the name of the variable followed by the number 30 and everything related to the 10 GeV by the \n",
    "#name of the variable followed by - guess what: 10!\n",
    "\n",
    "#So, dark matter masses:\n",
    "\n",
    "mdm100 = 100.0\n",
    "mdm30 = 30.0\n",
    "\n",
    "#Now, let us find how many entries have each of these values. We will need this number in a while.\n",
    "\n",
    "size100 = 0\n",
    "for i in range (0,uplim):\n",
    "    if (mass[i] == mdm100):\n",
    "        size100 +=1\n",
    "\n",
    "\n",
    "size30 = 0\n",
    "for i in range (0,uplim):\n",
    "    if (mass[i] == mdm30):\n",
    "        size30 +=1\n",
    "\n",
    "\n",
    "\n",
    "#size is the number of entries corresponding to the specific value of mass. Let us create two arrays with zeros, of that size.\n",
    "# The titles are logex and diendlogex, which are quite descriptive about what they contain (what they are going to contain).\n",
    "\n",
    "logex100 = np.zeros(size100)\n",
    "diendlogex100 = np.zeros(size100)\n",
    "\n",
    "logex30 = np.zeros(size30)\n",
    "diendlogex30 = np.zeros(size30)\n",
    "\n",
    "\n",
    "#Let's populate the arrays logex, diendlogex\n",
    "# x=photon energy / dark matter particle mass\n",
    "\n",
    "j = 0 \n",
    "for i in range (0,uplim):\n",
    "    if (mass[i] == mdm100):\n",
    "        logex100[j] = energ[i]\n",
    "        diendlogex100[j] = bibibar[i]\n",
    "        j +=1\n",
    "\n",
    "j = 0 \n",
    "for i in range (0,uplim):\n",
    "    if (mass[i] == mdm30):\n",
    "        logex30[j] = energ[i]\n",
    "        diendlogex30[j] = bibibar[i]\n",
    "        j +=1\n",
    "\n",
    "\n",
    "\n"
   ]
  },
  {
   "cell_type": "code",
   "execution_count": 20,
   "metadata": {
    "collapsed": true
   },
   "outputs": [],
   "source": [
    "#Remember, each array starts from zero. Useful to define the number size-1, call it n, which will serve as an upper limit\n",
    "\n",
    "n100 = size100 - 1 \n",
    "n30 = size30 - 1\n",
    "\n",
    "#just useful when we want to find the entry with the maximum index\n",
    "#If we generally want to run a loop, limits 0,size are the approptiate"
   ]
  },
  {
   "cell_type": "markdown",
   "metadata": {},
   "source": [
    "Now: $\\log_{10}x = \\log_{10} \\frac{E}{M_{dm}} = \\log_{10} \\frac{E}{GeV} \\frac{GeV}{M_{dm}} \\Rightarrow \\log_{10} \\frac{E}{GeV} = \\log_{10}x + \\log_{10} \\frac{M_{dm}}{GeV} $. Since everything is expressed in GeV, is easy to create the array  \n",
    "containing the logs of the energies:"
   ]
  },
  {
   "cell_type": "code",
   "execution_count": 21,
   "metadata": {
    "collapsed": false
   },
   "outputs": [],
   "source": [
    "logE100 = logex100 + np.log10(mdm100)\n",
    "logE30 = logex30 + np.log10(mdm30)"
   ]
  },
  {
   "cell_type": "markdown",
   "metadata": {},
   "source": [
    "The other one does not require adjustment. $dN/d \\log_{10} x = \\ln10 x dN/dx = \\ln10 \\,E \\, \\frac{dN}{dE} = \\frac{dN}{d\\log E}$. So, remain as it is. \n",
    "\n"
   ]
  },
  {
   "cell_type": "code",
   "execution_count": 22,
   "metadata": {
    "collapsed": true
   },
   "outputs": [],
   "source": [
    "dNdlogE100 = diendlogex100\n",
    "dNdlogE30 = diendlogex30"
   ]
  },
  {
   "cell_type": "code",
   "execution_count": 23,
   "metadata": {
    "collapsed": false
   },
   "outputs": [],
   "source": [
    "#Starting energy of photons in GeV - 1.0 in both cases, so we do not need to distinguish here between the two cases\n",
    "\n",
    "#Remember again that we have  \n",
    "\n",
    "Est = 1.0\n",
    "\n",
    "\n",
    "#We want to calculate the integral of the flux - see formula above - in the two cases \n",
    "\n",
    "#Let's now use interpolation in order to have a value corresponding to dN/dlogE for every value of energy\n",
    "\n",
    "from scipy import interpolate\n",
    "\n",
    "intrpdNdlogE100 = interpolate.interp1d(logE100, dNdlogE100)\n",
    "intrpdNdlogE30 = interpolate.interp1d(logE30, dNdlogE30)\n",
    "\n",
    "\n",
    "#Calculate the upper and lower limits of the two intergrals of the flux - for both cases \n",
    "\n",
    "low100 = np.log10(Est)\n",
    "low30 = np.log10(Est)\n",
    "up100 = np.log10(mdm100)\n",
    "up30 = np.log10(mdm30)\n",
    "\n",
    "\n",
    "\n",
    "def integralino100(a,b):\n",
    "    #Number of points\n",
    "    nu = 1000\n",
    "    #step \n",
    "    h = (b - a)/nu\n",
    "    summa = 0.0\n",
    "    for j in range (0,nu):\n",
    "        x1 = a + j*h\n",
    "        x2 = x1 + h\n",
    "        q1 = intrpdNdlogE100(x1)\n",
    "        q2 = intrpdNdlogE100(x2)\n",
    "        summa = summa +  q1 + q2\n",
    "    summa = summa*h/2.0\n",
    "    return summa\n",
    "\n",
    "\n",
    "\n",
    "def integralino30(a,b):\n",
    "    #Number of points\n",
    "    nu = 1000\n",
    "    #step \n",
    "    h = (b - a)/nu\n",
    "    summa = 0.0\n",
    "    for j in range (0,nu):\n",
    "        x1 = a + j*h\n",
    "        x2 = x1 + h\n",
    "        q1 = intrpdNdlogE30(x1)\n",
    "        q2 = intrpdNdlogE30(x2)\n",
    "        summa = summa +  q1 + q2\n",
    "    summa = summa*h/2.0\n",
    "    return summa\n",
    "\n",
    "\n",
    "\n",
    "\n",
    "\n",
    "\n",
    "#Calculation of fluxes \n",
    "\n",
    "#Flux  over 1 GeV in the case of 100 GeV dark matter particle \n",
    "F100 = integralino100(low100, up100)\n",
    "\n",
    "\n",
    "#Flux over 1 GeV in the case of 30 GeV dark matter particle\n",
    "F30 = integralino30(low30, up30)\n",
    "\n"
   ]
  },
  {
   "cell_type": "markdown",
   "metadata": {},
   "source": [
    "Normalization constant defined, as we said as:\n",
    "\n",
    "\\begin{equation}\n",
    "{\\cal{N}} \\equiv \\frac{F_{30}}{F_{100}}\n",
    "\\end{equation}"
   ]
  },
  {
   "cell_type": "code",
   "execution_count": 24,
   "metadata": {
    "collapsed": false
   },
   "outputs": [
    {
     "name": "stdout",
     "output_type": "stream",
     "text": [
      "Flux of 30 GeV DM particle over 1 GeV is:\n",
      "4.63268892391\n",
      "Normalization constant is equal to:\n",
      "0.340290621528\n"
     ]
    }
   ],
   "source": [
    "Norm = F30/F100\n",
    "\n",
    "print(\"Flux of 30 GeV DM particle over 1 GeV is:\")\n",
    "print(F30)\n",
    "\n",
    "print(\"Normalization constant is equal to:\")\n",
    "print(Norm)"
   ]
  }
 ],
 "metadata": {
  "anaconda-cloud": {},
  "kernelspec": {
   "display_name": "Python [conda root]",
   "language": "python",
   "name": "conda-root-py"
  },
  "language_info": {
   "codemirror_mode": {
    "name": "ipython",
    "version": 3
   },
   "file_extension": ".py",
   "mimetype": "text/x-python",
   "name": "python",
   "nbconvert_exporter": "python",
   "pygments_lexer": "ipython3",
   "version": "3.5.2"
  }
 },
 "nbformat": 4,
 "nbformat_minor": 1
}
