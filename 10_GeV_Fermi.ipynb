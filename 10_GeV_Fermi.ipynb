{
 "cells": [
  {
   "cell_type": "markdown",
   "metadata": {},
   "source": [
    "## Creation of all files for 10 GeV Dark Matter Partice, detection Using FERMI LAT\n",
    "\n",
    "Let's start. First we read from the file created using the PYTHIA simulation the columns corresponding to mass of the dark matter particle, $M_{dm}$, the quantities $\\log_{10}x$ and $dN/d\\log_{10} x$, where $x \\equiv E/M_{dm}$ of the produced photons via the $b\\bar{b}$ channel. We select and create arrays of the \"energy\" ($\\log_{10}x$) and \"spectrum\" ($dN\\log_{10} x$) of photons corresponding to the the selected Dark Matter mass (in GeV). We select 10 GeV in this case."
   ]
  },
  {
   "cell_type": "markdown",
   "metadata": {},
   "source": [
    "### Part A: Binning and events number counting"
   ]
  },
  {
   "cell_type": "code",
   "execution_count": 1,
   "metadata": {
    "collapsed": true
   },
   "outputs": [],
   "source": [
    "import numpy as np\n",
    "import scipy.integrate as integrate\n",
    "import matplotlib\n",
    "import matplotlib.pyplot as plt\n",
    "%matplotlib inline \n",
    "from astropy.io import fits\n",
    "\n",
    "#We open and read the file containing the spectrum. The file should be at the same directory as our script/notebook\n",
    "mass, energ, bibibar = np.loadtxt(\"AtProduction_gammas.dat\", usecols=(0,1,13), unpack=3)\n",
    "\n",
    "\n",
    "#since we don't know the size of the file, let's find the length of the columns. Find the upper limit; \n",
    "#when then we are going to run a for loop, we will know the range\n",
    "a = np.shape(mass)\n",
    "uplim=a[0]-1\n",
    "\n",
    "#Choose the mass of the Dark Matter particle; here 10GeV - units in the file are in GeV\n",
    "mdm = 10.0\n",
    "\n",
    "#Now, let us find how many entries have that value. We will need this number in a while.\n",
    "\n",
    "size=0\n",
    "for i in range (0,uplim):\n",
    "    if (mass[i] == mdm):\n",
    "        size +=1\n",
    "        \n",
    "#size is the number of entries corresponding to the specific value of mass. Let us create two arrays with zeros, of that size.\n",
    "# The titles are logex and diendlogex, which are quite descriptive about what they contain (what they are going to contain).\n",
    "\n",
    "logex = np.zeros(size)\n",
    "diendlogex = np.zeros(size)\n",
    "\n",
    "#Let's populate the arrays logex, diendlogex\n",
    "# x=photon energy / dark matter particle mass\n",
    "\n",
    "j = 0 \n",
    "for i in range (0,uplim):\n",
    "    if (mass[i] == mdm):\n",
    "        logex[j] = energ[i]\n",
    "        diendlogex[j] = bibibar[i]\n",
    "        j +=1"
   ]
  },
  {
   "cell_type": "code",
   "execution_count": 2,
   "metadata": {
    "collapsed": true
   },
   "outputs": [],
   "source": [
    "#Remember, each array starts from zero. Useful to define the number size-1, call it n, which will serve as an upper limit\n",
    "\n",
    "n = size -1\n",
    "\n",
    "#just useful when we want to find the entry with the maximum index\n",
    "#If we generally want to run a loop, limits 0,size are the approptiate "
   ]
  },
  {
   "cell_type": "markdown",
   "metadata": {},
   "source": [
    "Now: $\\log_{10}x = \\log_{10} \\frac{E}{M_{dm}} = \\log_{10} \\frac{E}{GeV} \\frac{GeV}{M_{dm}} \\Rightarrow \\log_{10} \\frac{E}{GeV} = \\log_{10}x + \\log_{10} \\frac{M_{dm}}{GeV} $. Since everything is expressed in GeV, is easy to create the array  \n",
    "containing the logs of the energies:"
   ]
  },
  {
   "cell_type": "code",
   "execution_count": 3,
   "metadata": {
    "collapsed": false
   },
   "outputs": [
    {
     "name": "stdout",
     "output_type": "stream",
     "text": [
      "minimum energy - in GeV:\n",
      "1.25892541179e-08\n",
      "maximum energy - in GeV:\n",
      "10.0\n"
     ]
    }
   ],
   "source": [
    "logE = logex + np.log10(mdm) \n",
    "dNdlogE = diendlogex\n",
    "\n",
    "#Now, let's get an idea of the range of energies we have.\n",
    "#Print the lowest and maximum energies of photons.\n",
    "\n",
    "print(\"minimum energy - in GeV:\")\n",
    "print(np.power(10,logE[0]))\n",
    "print(\"maximum energy - in GeV:\")\n",
    "print(np.power(10,logE[n]))"
   ]
  },
  {
   "cell_type": "markdown",
   "metadata": {},
   "source": [
    "We see that we get a pretty good range of energies. Of course we are interested in one more limited range of photon energies. \n",
    "\n",
    "We want to calculate the number of counts for a number of (logarithmic bins).\n",
    "\n",
    "Denote $b = dN / d\\log_{10} E$. Thus, in a bin :\n",
    "\n",
    "\\begin{equation}\n",
    "N = time \\times \\int_{\\log E_{low}}^{\\log E_{up}} \\frac{dN}{d\\log E} A_{eff}(\\log E)  d\\log E\n",
    "\\end{equation}\n",
    "\n",
    "Since we have to multiply by the total exposure time and also in the integration we have to take into account the $A_{eff}(E)$ (integrate over it). \n",
    "\n",
    "##### Note: in case of Fermi, we use Acceptance"
   ]
  },
  {
   "cell_type": "code",
   "execution_count": 4,
   "metadata": {
    "collapsed": false
   },
   "outputs": [
    {
     "name": "stdout",
     "output_type": "stream",
     "text": [
      "10\n",
      "[    49.22386639    211.72924834   1167.07380634   3285.19114415\n",
      "   6777.96913594  11539.46384464  15560.87380181  19212.24138322\n",
      "  22440.70339233  24823.35425684  25091.36848784  24302.22756011\n",
      "  24570.45933513  24415.56799384  25053.6246006   25374.61080015\n",
      "  25219.82823087  25065.04566158  25015.98948537  24332.4661787\n",
      "  21851.81173378  16833.61508305  10916.74409119]\n",
      "[  1.04940472e+02   1.47782199e+02   1.71557088e+02   1.58635655e+02\n",
      "   1.13629254e+02   5.96938556e+01   2.21578002e+01   5.48548620e+00\n",
      "   8.03942670e-01   4.92714355e-02]\n"
     ]
    }
   ],
   "source": [
    "#energies, bins from 0, size \n",
    "\n",
    "\n",
    "#Let's choose energies of photons. Remember energy is given in Gev\n",
    "\n",
    "#Starting energy of photons in GeV 0.1 GeV for Fermi \n",
    "\n",
    "Est = 0.1\n",
    "\n",
    "\n",
    "#Maximum energy = equal to the dark matter mass for Fermi\n",
    "Eend = mdm\n",
    "\n",
    "\n",
    "#Since we work in log space, let's define their logarithms\n",
    "\n",
    "logstart = np.log10(Est)\n",
    "logend = np.log10(Eend)\n",
    "\n",
    "#Now, define the number length of logarithmic step. Let's take it equal to 1/5\n",
    "#This is the inverse of the number of bins per decade\n",
    "\n",
    "logstep = 1.0/5.0 \n",
    "\n",
    "#Let's find the number of energy bins:\n",
    "\n",
    "numbins = int((logend-logstart)/logstep)  \n",
    "\n",
    "print(numbins)\n",
    "\n",
    "#Create empty array, with number of entries equal to the number of bins, which we are going to populate\n",
    "\n",
    "counts = np.zeros(numbins)\n",
    "\n",
    "\n",
    "# We will also need the Acceptance for FermiLat\n",
    "#In the following Aenerg is the energy -warning it is given in Mev- and Aeff the acceptance in m^2*sr\n",
    "\n",
    "\n",
    "Aenerg, Aeff = np.loadtxt(\"Acceptance_Fermi.dat\", usecols=(0,1), unpack=3)\n",
    "\n",
    "\n",
    "#Now the energy is given in MeV. We need to convert this in GeV and also we need actually its logarithm\n",
    "#define logAenerg\n",
    "\n",
    "logAenerg = np.log10(Aenerg/1000.0)\n",
    "\n",
    "#Thus, Aeff is now function of the log of the energy \n",
    "\n",
    "# Aeff in m^2, let's convert in cm^2 by multiplying by 10000 in the case of Fermi\n",
    "#Note: A_eff is actually acceptanceGAM\n",
    "\n",
    "Aeff = Aeff*10000\n",
    "print(Aeff)\n",
    "\n",
    "\n",
    "#Let's now use interpolation in order to have a value corresponding to dN/dlogE for every\n",
    "#Also a interpolation in order to get a value for every energy for Aeff\n",
    "\n",
    "from scipy import interpolate\n",
    "\n",
    "intrpdNdlogE = interpolate.interp1d(logE, dNdlogE)\n",
    "intrpAeff = interpolate.interp1d(logAenerg, Aeff)\n",
    "\n",
    "\n",
    "#Function which implements a trapezoidal rule integration\n",
    "#For the integrated function, see above \n",
    "\n",
    "def integralino(a,b):\n",
    "    #Number of points\n",
    "    nu = 1000\n",
    "    #step \n",
    "    h = (b - a)/nu\n",
    "    summa = 0.0\n",
    "    for j in range (0,nu):\n",
    "        x1 = a + j*h\n",
    "        x2 = x1 + h\n",
    "        q1 = (intrpdNdlogE(x1))*(intrpAeff(x1))\n",
    "        q2 = (intrpdNdlogE(x2))*(intrpAeff(x2))\n",
    "        summa = summa +  q1 + q2\n",
    "    summa = summa*h/2.0\n",
    "    return summa\n",
    "\n",
    "\n",
    "#So, we now have an array with as many cells as the number of energy bins. Let's populate them.\n",
    "# We will also need total exposure time\n",
    "\n",
    "#Years 7 for fermi\n",
    "\n",
    "years=7.0\n",
    "\n",
    "\n",
    "\n",
    "# frac_years 1/4pi for Fermi. This is actually for acceptance \n",
    "\n",
    "\n",
    "\n",
    "frac_year = 1.0/(4.0*np.pi)\n",
    "\n",
    "\n",
    "sec_year = 365*24*3600 \n",
    "\n",
    "#exposure time\n",
    "\n",
    "texp = years*frac_year*sec_year\n",
    "\n",
    "\n",
    " \n",
    "\n",
    "#We have also to introduce a normalization factor\n",
    "\n",
    "norm = 2.87e-10/2.0\n",
    "\n",
    "\n",
    "#In the case of 10 GeV dark matter I also include a relative normalization factor\n",
    "\n",
    "relnorm = 1.67383318364\n",
    "\n",
    " \n",
    "\n",
    "for i in range (0,numbins):\n",
    "    ll = logstart + i*logstep         #upper limit of the energy bin\n",
    "    ul = logstart + (i+1)*logstep     #lower limit of the energy bin\n",
    "    if (ul > logend):                 #special case, accounts for the last cell\n",
    "        ul = logend\n",
    "    counts[i] = relnorm*norm*texp*integralino(ll, ul)\n",
    "\n",
    "# Erase the comment symbol in order to see the number of counts\n",
    "print(counts)\n",
    "\n"
   ]
  },
  {
   "cell_type": "markdown",
   "metadata": {},
   "source": [
    "### Part B: Creation of all Files \n",
    "\n",
    "Here we create all files, for all models we consider, in the case of 10GeV dark matter particle and detection using FERMI.\n",
    "\n",
    "These models are:\n",
    "\n",
    "###### One central point source\n",
    "\n",
    "###### Central Extended source, 2D Gaussian profile, $\\theta_{68} = 0.25^o$ (degrees)\n",
    "\n",
    "###### Central Extended source, truncated NFW profile (actually $1/r$) , again $\\theta_{68} = 0.25^o$ (degrees)\n",
    "\n",
    "###### Two point sources, angular distance $0.32^o$  (degrees). Configuration centered around the position of J2212.5+0703\n",
    "\n",
    "###### Two point sources, angular distance $0.50^o$ (degrees). Configuration centered around the position of J2212.5+0703\n",
    "\n",
    "###### Two point sources - non cocentric model. One point source at the center (at the position of J2212.5+0703) and one at J221251+064604\n",
    "###### (this is the best fit solution mentioned in Hooper et al)\n",
    "\n",
    "\n",
    "Let's give the coordinates of three sources we are going to need. First of all of the source mentioned in Hooper et. al. paper as a Dark Matter subhalo candidate, $J2212.5+0703$, as well as the two nearby sources, $J221251+064604$ and $J221408+071128$.\n",
    "\n",
    "$\\qquad$ $\\qquad$ $\\qquad$ $\\qquad$ $l$ $\\qquad$ $\\qquad$ $\\,\\,\\,\\,\\,\\,\\,\\,\\,b$\n",
    "\n",
    "J2212.5+0703:  $\\qquad$     $\\,\\,\\,\\,\\, 68.7423^o$  $\\qquad$     $\\,\\,\\,\\,\\,-38.5648^o$   \n",
    "\n",
    "J221251+064604:  $\\qquad$     $68.52764^o$  $\\qquad$     $-38.81095^o$  \n",
    "\n",
    "J221408+071128:  $\\qquad$     $69.20910^o$  $\\qquad$     $-38.75225^o$  \n",
    "\n",
    "\n",
    "We will start by defining the grid and the central point.\n",
    "\n",
    "Always the grid is $20^o \\times 20^o$ (in our case 400 x 400 pixels, thus bin length $0.05^o$ degrees).  It is centered around the source $J2212.5+0703$.\n",
    "\n",
    "So, in the following line we define the center and the boundaries of the grid/patch of the sky we consider. We will also define the bin length here.\n",
    "\n"
   ]
  },
  {
   "cell_type": "code",
   "execution_count": 5,
   "metadata": {
    "collapsed": true
   },
   "outputs": [],
   "source": [
    "# Define the coordinates of the center of the grid\n",
    "#latitude and longitue in galactic coordinates \n",
    "#longitude in l, latitude in b\n",
    "# longitude is the x-like coordinate, latitude is the y-like coordinate\n",
    "\n",
    "#the center is at the position of source J2212.5+0703\n",
    "\n",
    "centerl = 68.7423\n",
    "centerb = - 38.5648\n",
    "\n",
    "#Having the position of the center, we can define the limits in x and y. Remember, the grid is defined as +/- 10 degrees \n",
    "#from the center\n",
    "\n",
    "#First, let's make a choice for the coordinates of the upper left point \n",
    "#We define it to be 10 degrees of in each direction \n",
    "\n",
    "upx = centerl + 10.0 \n",
    "upy = centerb + 10.0\n",
    "\n",
    "#Now, find the other limits\n",
    "\n",
    "lowx = upx - 20.0\n",
    "lowy = upy - 20.0\n",
    "\n",
    "#------------------------------------------------------------------\n",
    "#------------------------------------------------------------------\n",
    "\n",
    "# define angular length of each \"pixel\" of the grid\n",
    "\n",
    "binlen = 0.05 #in degrees\n",
    "\n",
    "#we want a 20*20 degrees box, define its size \n",
    "\n",
    "leng = int(20.0/binlen)\n",
    "\n",
    "#------------------------------------------------------------------\n",
    "#------------------------------------------------------------------\n",
    "\n",
    "# Now, define two very very useful functions that take as input the coordinates of the  sources and return \n",
    "# the pixel positions of them\n",
    "\n",
    "\n",
    "def pixelposx(x,ux,binln):\n",
    "    posx = int((ux - x)/binln)\n",
    "    return posx\n",
    "\n",
    "\n",
    "def pixelposy(y,uy,binln):\n",
    "    posy = int((uy - y)/binln)\n",
    "    return posy"
   ]
  },
  {
   "cell_type": "markdown",
   "metadata": {
    "collapsed": true
   },
   "source": [
    "#### Model 1 : One Central Source "
   ]
  },
  {
   "cell_type": "code",
   "execution_count": 6,
   "metadata": {
    "collapsed": false
   },
   "outputs": [
    {
     "data": {
      "text/plain": [
       "<matplotlib.colorbar.Colorbar at 0x10cc4a3c8>"
      ]
     },
     "execution_count": 6,
     "metadata": {},
     "output_type": "execute_result"
    },
    {
     "data": {
      "image/png": "[encoded data removed]",
      "text/plain": [
       "<matplotlib.figure.Figure at 0x1018446d8>"
      ]
     },
     "metadata": {},
     "output_type": "display_data"
    }
   ],
   "source": [
    "# Create empty array to be populated\n",
    "\n",
    "onesource = np.zeros((numbins,leng,leng))\n",
    "\n",
    "# position of the source\n",
    "# position is at the center of the grid; at the coordinates of J2212.5+0703\n",
    "\n",
    "sourcel = 68.7423\n",
    "sourceb = -38.5648\n",
    "\n",
    "# find  pixel position\n",
    "\n",
    "pospixx = pixelposx(sourcel,upx,binlen) \n",
    "pospixy = pixelposy(sourceb,upy,binlen)\n",
    "\n",
    "#Ready to populate the array\n",
    "#multiply counts by 2, since we have only one source\n",
    "\n",
    "for i in range (0,numbins):\n",
    "    onesource[i][pospixy][pospixx] = 2.0*counts[i]\n",
    "    \n",
    "\n",
    "hdu = fits.PrimaryHDU()\n",
    "hdu.data = onesource\n",
    "\n",
    "hdu.writeto('10GeV_Fermi_CentralPointSource.fits', clobber = True)\n",
    "\n",
    "fig=plt.figure(figsize=(10.0, 10.0))\n",
    "plt.imshow(hdu.data[9], extent=[upx,lowx,lowy,upy])\n",
    "plt.autoscale(False)\n",
    "plt.xlim(upx,lowx)\n",
    "plt.ylim(lowy,upy)\n",
    "\n",
    "plt.colorbar()    "
   ]
  },
  {
   "cell_type": "markdown",
   "metadata": {
    "collapsed": true
   },
   "source": [
    "#### Model 2 : Central Extended Source: 2D Gaussian extension\n",
    "\n",
    "Next we consider the following model: Extended source at the center of the grid, gaussian distribution of counts:\n",
    "\\begin{equation}\n",
    "N \\sim e^{-\\frac{1}{2}\\frac{x^2+y^2}{\\sigma^2}}\n",
    "\\end{equation}\n",
    "with  $\\sigma = 0.16725^\\circ$. That way, $68%$ of the light is inside angle $0.25^o$"
   ]
  },
  {
   "cell_type": "code",
   "execution_count": 7,
   "metadata": {
    "collapsed": false
   },
   "outputs": [
    {
     "data": {
      "text/plain": [
       "<matplotlib.colorbar.Colorbar at 0x110946898>"
      ]
     },
     "execution_count": 7,
     "metadata": {},
     "output_type": "execute_result"
    },
    {
     "data": {
      "image/png": "[encoded data removed]",
      "text/plain": [
       "<matplotlib.figure.Figure at 0x10cce2da0>"
      ]
     },
     "metadata": {},
     "output_type": "display_data"
    }
   ],
   "source": [
    "#create again an empty 3d array - a 20x20 degrees box \n",
    "\n",
    "extsource = np.zeros((numbins,leng,leng))\n",
    "\n",
    "#define std deviation \n",
    "\n",
    "sigma = 0.16725 \n",
    "\n",
    "#The array is a 400*400 arrray - it has no central point. Instead we will define four central points \n",
    "#define the coordinates of the four four central points. Define the points as lr = low right, ll = low left, ur = upper right\n",
    "#ul = upper left. A simple diagram would be very helpful here. \n",
    "#i is row, j is column\n",
    "\n",
    "adef = int(leng/2.0)\n",
    "\n",
    "\n",
    "\n",
    "lri = adef; lrj = adef\n",
    "lli = adef; llj = adef - 1\n",
    "uri = adef - 1; urj = adef\n",
    "uli = adef -1; ulj = adef - 1\n",
    "\n",
    "#the following function finds the quarter of the grid \n",
    "# named again ll, lr, ur, ul  \n",
    "\n",
    "\n",
    "def quarter(i,j):\n",
    "    if ((i >= lri) and (j >= lrj)):\n",
    "        quarto = \"lr\"\n",
    "    elif ((i >= lli) and (j <= llj)):\n",
    "        quarto = \"ll\"\n",
    "    elif ((i <= uri) and (j >= urj)):\n",
    "        quarto = \"ur\"\n",
    "    elif ((i <= uli) and (j <= ulj)):\n",
    "        quarto = \"ul\"\n",
    "    return quarto\n",
    "\n",
    "\n",
    "#the following function calculates and returns the value as calculated from a 2d gaussian distribution \n",
    "\n",
    "def gaussian(a,b,i,j):\n",
    "    forx = abs(j - b)*binlen + (binlen/2.0)\n",
    "    fory = abs(i - a)*binlen + (binlen/2.0)\n",
    "    exponent = - (forx**2.0 + fory**2.0)/(2.0*(sigma**2.0))\n",
    "    value = np.exp(exponent)\n",
    "    return value \n",
    "\n",
    "#populate the array\n",
    "#energies will run in k \n",
    "#keep track of the total value of entries in each slice in order to normalize \n",
    "\n",
    "norma = 0.0\n",
    "for k in range (0,numbins):\n",
    "    for i in range (0, leng):\n",
    "        for j in range (0, leng):\n",
    "            quar = quarter(i,j)\n",
    "            if (quar == \"lr\"):\n",
    "                entry = gaussian(lri,lrj,i,j)\n",
    "            elif (quar == \"ll\"):\n",
    "                entry = gaussian(lli,llj,i,j)\n",
    "            elif (quar == \"ur\" ):\n",
    "                entry = gaussian(uri,urj,i,j)\n",
    "            elif (quar == \"ul\"):\n",
    "                entry = gaussian(uli,ulj,i,j)\n",
    "            extsource[k][i][j]= entry\n",
    "            if (k == 0):\n",
    "                norma = norma + entry \n",
    "                \n",
    "                \n",
    "#Normalize now the array and multiply by the number of counts per energy bin - here multiply by 2.0 because we \n",
    "\n",
    "for k in range (0, numbins):\n",
    "    extsource[k] = (2.0*counts[k])*extsource[k]/norma\n",
    "\n",
    "\n",
    "hdu1 = fits.PrimaryHDU()\n",
    "hdu1.data=extsource\n",
    "\n",
    "hdu1.writeto('10GeV_Fermi_GaussExtended.fits', clobber = True)\n",
    "\n",
    "fig=plt.figure(figsize=(10.0, 10.0))\n",
    "plt.imshow(hdu1.data[9], extent=[upx,lowx,lowy,upy])\n",
    "plt.autoscale(False)\n",
    "plt.xlim(upx,lowx)\n",
    "plt.ylim(lowy,upy)\n",
    "\n",
    "plt.colorbar()    \n",
    "    "
   ]
  },
  {
   "cell_type": "markdown",
   "metadata": {},
   "source": [
    "#### Model 3 :  Central Extended source: Truncated NFW extension\n",
    "\n",
    "Using DM density profile $\\rho(r) \\propto \\frac{1}{r}$.\n",
    "\n",
    "$\\theta_{max} = 0.0084$ rad is the critical angle , such that $68\\%$ of the light is inside $0.25^o$."
   ]
  },
  {
   "cell_type": "code",
   "execution_count": 8,
   "metadata": {
    "collapsed": false
   },
   "outputs": [
    {
     "name": "stderr",
     "output_type": "stream",
     "text": [
      "//anaconda/lib/python3.5/site-packages/scipy/integrate/quadpack.py:356: IntegrationWarning: The occurrence of roundoff error is detected, which prevents \n",
      "  the requested tolerance from being achieved.  The error may be \n",
      "  underestimated.\n",
      "  warnings.warn(msg, IntegrationWarning)\n"
     ]
    },
    {
     "data": {
      "text/plain": [
       "<matplotlib.colorbar.Colorbar at 0x10cd7feb8>"
      ]
     },
     "execution_count": 8,
     "metadata": {},
     "output_type": "execute_result"
    },
    {
     "data": {
      "image/png": "[encoded data removed]",
      "text/plain": [
       "<matplotlib.figure.Figure at 0x10ccb1908>"
      ]
     },
     "metadata": {},
     "output_type": "display_data"
    }
   ],
   "source": [
    "# Degree to rad and rad to degree conversions\n",
    "\n",
    "degrad = 0.0174533 #degrees to rads\n",
    "raddeg = 57.29575 #rads to degrees\n",
    "\n",
    "#-------------------------------------------------\n",
    "\n",
    "# Now define a sigma, the sigma you want in DEGREES\n",
    "sigma = 0.25\n",
    "# Contvert this to rad\n",
    "sigma = sigma*degrad\n",
    "\n",
    "#Define the theta_max we found\n",
    "#in rad\n",
    "\n",
    "thet_max = 0.00841379\n",
    "\n",
    "#------------------------------------------------\n",
    "\n",
    "#Size of grid and bin length\n",
    "\n",
    "binlen = 0.05 #in deg\n",
    "binlen = binlen*degrad #in rads\n",
    "\n",
    "N = 400\n",
    "\n",
    "#Create the grid \n",
    "\n",
    "grid = np.zeros((numbins,N,N))\n",
    "\n",
    "#-----------------------------------------------------------------------------------------------\n",
    "# Here I define function that takes as input the position of the origin a,b, the position of the bin or the subbin and the subbin\n",
    "# length - since it changes - and returns the value of j in the subbin. also the value of the \n",
    "\n",
    "def integrand(u, thet):\n",
    "    integr = 1.0/(1.0 + u**2.0 - 2.0*u*np.cos(thet))\n",
    "    return integr\n",
    "\n",
    "\n",
    "def J_value(ori,orj,i,j, length):\n",
    "    'ori,orj are the coordinates of the origin i,j those of the bin and len the size of each bin'\n",
    "    \n",
    "    distx = (abs(j - orj) + 0.5)*length\n",
    "    disty = (abs(i - ori) + 0.5)*length\n",
    "    #calculate distance in theta\n",
    "    \n",
    "    thet = np.sqrt(distx**2.0 + disty**2.0)\n",
    "    if (thet < thet_max):\n",
    "        #limits of integration\n",
    "        alow = 1.0 - thet_max*np.sqrt(1.0 - (thet/thet_max)**2.0)\n",
    "        aup = 1.0 + thet_max*np.sqrt(1.0 - (thet/thet_max)**2.0)\n",
    "        integroulino = integrate.quad(integrand, alow, aup, args=(thet))[0]\n",
    "    else:\n",
    "        integroulino = 0.0\n",
    "    return integroulino\n",
    "\n",
    "#-------------------------------------------------------------------\n",
    "#The array  we have created is a 400*400 arrray - it has no central point. Instead we will define four central points \n",
    "#define the coordinates of the four four central points. Define the points as lr = low right, ll = low left, ur = upper right\n",
    "#ul = upper left. A simple diagram would be very helpful here. \n",
    "#i is row, j is column\n",
    "\n",
    "adef = int(N/2)\n",
    "\n",
    "lri = adef; lrj = adef\n",
    "lli = adef; llj = adef - 1\n",
    "uri = adef - 1; urj = adef\n",
    "uli = adef -1; ulj = adef - 1\n",
    "\n",
    "##the following function finds the quarter of the grid \n",
    "# named again ll, lr, ur, ul  \n",
    "\n",
    "\n",
    "def quarter(i,j):\n",
    "    if ((i >= lri) and (j >= lrj)):\n",
    "        quarto = \"lr\"\n",
    "    elif ((i >= lli) and (j <= llj)):\n",
    "        quarto = \"ll\"\n",
    "    elif ((i <= uri) and (j >= urj)):\n",
    "        quarto = \"ur\"\n",
    "    elif ((i <= uli) and (j <= ulj)):\n",
    "        quarto = \"ul\"\n",
    "    return quarto\n",
    "#---------------------------------------------------------------\n",
    "#---------------------------------------------------------------\n",
    "# This is the main body of the program, it \n",
    "# calculates  J_theta  \n",
    "# inside the gid and returns them\n",
    "# We will need also one more function in case we deal with one of the central sources\n",
    "\n",
    "\n",
    "\n",
    "def subbin(length):\n",
    "    'This function calculates and returns the mean value of J for the four central points. the value is the same for all'\n",
    "    \n",
    "    #number of subbins of teh subgrid\n",
    "    numb = 50\n",
    "    #length of subbins\n",
    "    subleng = length/numb\n",
    "    \n",
    "    subgrid = np.zeros((numb,numb))\n",
    "    \n",
    "    #coordinates of the origin\n",
    "    origi = numb - 1\n",
    "    origj = 0\n",
    "    \n",
    "    for i in range (0,numb):\n",
    "        for j in range (0,numb):\n",
    "            subgrid[i][j] = J_value(origi,origj,i,j,subleng)\n",
    "    \n",
    "    sub_val = np.average(subgrid)\n",
    "    return sub_val\n",
    "\n",
    "\n",
    "subbin_val = subbin(binlen)\n",
    "\n",
    "for k in range (0,numbins):\n",
    "    for i in range (0,N):\n",
    "        for j in range (0,N):\n",
    "            quar = quarter(i,j)\n",
    "            if (quar == \"lr\"):\n",
    "                if ((i == lri)and(j == lrj)):\n",
    "                    entry = subbin_val\n",
    "                else:\n",
    "                    entry = J_value(lri,lrj,i,j,binlen)\n",
    "                \n",
    "            elif (quar == \"ll\"):\n",
    "                if ((i == lli)and(j == llj)):\n",
    "                    entry = subbin_val\n",
    "                else:\n",
    "                    entry = J_value(lli,llj,i,j,binlen)\n",
    "                    \n",
    "            elif (quar == \"ur\" ):\n",
    "                if ((i == uri)and(j == urj)):\n",
    "                    entry = subbin_val\n",
    "                else:\n",
    "                    entry = J_value(uri,urj,i,j,binlen)\n",
    "                    \n",
    "            elif (quar == \"ul\"):\n",
    "                if ((i == uli)and(j == ulj)):\n",
    "                    entry = subbin_val\n",
    "                else:\n",
    "                    entry = J_value(uli,ulj,i,j,binlen)\n",
    "            \n",
    "            grid[k][i][j] = entry\n",
    "\n",
    "#normalization factor\n",
    "\n",
    "norma = np.sum(grid[0][:][:])\n",
    "\n",
    "#Multiply\n",
    "\n",
    "for k in range (0, numbins):\n",
    "    grid[k] = (2.0*counts[k])*grid[k]/norma\n",
    "    \n",
    "#Define again binlen in degrees -- we will need this later\n",
    "\n",
    "binlen = 0.05 #in degrees\n",
    "\n",
    "hdu2 = fits.PrimaryHDU()\n",
    "hdu2.data=grid\n",
    "\n",
    "hdu2.writeto('10GeV_Fermi_NFWextended.fits', clobber = True)\n",
    "\n",
    "fig=plt.figure(figsize=(10.0, 10.0))\n",
    "plt.imshow(hdu2.data[9], extent=[upx,lowx,lowy,upy])\n",
    "plt.autoscale(False)\n",
    "plt.xlim(upx,lowx)\n",
    "plt.ylim(lowy,upy)\n",
    "\n",
    "plt.colorbar()"
   ]
  },
  {
   "cell_type": "markdown",
   "metadata": {},
   "source": [
    "#### Model 4 : Two sources - constant separation 0.32 degrees. Centered at the position of J2212.5+0703"
   ]
  },
  {
   "cell_type": "code",
   "execution_count": 9,
   "metadata": {
    "collapsed": false
   },
   "outputs": [
    {
     "data": {
      "text/plain": [
       "<matplotlib.colorbar.Colorbar at 0x115987e10>"
      ]
     },
     "execution_count": 9,
     "metadata": {},
     "output_type": "execute_result"
    },
    {
     "data": {
      "image/png": "[encoded data removed]",
      "text/plain": [
       "<matplotlib.figure.Figure at 0x10cdbe7b8>"
      ]
     },
     "metadata": {},
     "output_type": "display_data"
    }
   ],
   "source": [
    "#create 3d array, with the appropriate angular size and number of bins corresponding to the energy bins\n",
    "\n",
    "twosources032 = np.zeros((numbins,leng,leng))\n",
    "\n",
    "#Define the coordinates of the two sources. These are in the middle y -scale and a distance 0.32 degrees from the middle point in the x direction\n",
    "#First, let's state the coordinates of the two sources, latitde and longitude\n",
    "#in galactic coordinates\n",
    "#longitude in l, latitude in b\n",
    "# longitude is the x-like coordinate, latitude is the y-like coordinate\n",
    "\n",
    "\n",
    "\n",
    "source1l = upx - 10.0 - 0.16\n",
    "source1b = upy - 10.0\n",
    "\n",
    "source2l = upx - 10.0 + 0.16\n",
    "source2b = upy - 10.0\n",
    "\n",
    "pospix1x_032 = pixelposx(source1l,upx,binlen) \n",
    "pospix1y_032 = pixelposy(source1b,upy,binlen)\n",
    "pospix2x_032 = pixelposx(source2l,upx,binlen) \n",
    "pospix2y_032 = pixelposy(source2b,upy,binlen)\n",
    "\n",
    "#Ready to populate the array\n",
    "\n",
    "for i in range (0,numbins):\n",
    "    twosources032[i][pospix1y_032][pospix1x_032] = counts[i]\n",
    "    twosources032[i][pospix2y_032][pospix2x_032] = counts[i]\n",
    "    \n",
    "    \n",
    "hdu3 = fits.PrimaryHDU()\n",
    "hdu3.data=twosources032\n",
    "\n",
    "hdu3.writeto('10GeV_Fermi_TwoSources_032separation.fits', clobber = True)\n",
    "\n",
    "fig=plt.figure(figsize=(10.0, 10.0))\n",
    "plt.imshow(hdu3.data[9], extent=[upx,lowx,lowy,upy])\n",
    "plt.autoscale(False)\n",
    "plt.xlim(upx,lowx)\n",
    "plt.ylim(lowy,upy)\n",
    "\n",
    "plt.colorbar()\n",
    "\n"
   ]
  },
  {
   "cell_type": "markdown",
   "metadata": {},
   "source": [
    "#### Model 5 : Two sources - constant separation 0.50 degrees. Centered at the position of J2212.5+0703"
   ]
  },
  {
   "cell_type": "code",
   "execution_count": 10,
   "metadata": {
    "collapsed": false
   },
   "outputs": [
    {
     "data": {
      "text/plain": [
       "<matplotlib.colorbar.Colorbar at 0x1166bb2e8>"
      ]
     },
     "execution_count": 10,
     "metadata": {},
     "output_type": "execute_result"
    },
    {
     "data": {
      "image/png": "[encoded data removed]",
      "text/plain": [
       "<matplotlib.figure.Figure at 0x10cc2c518>"
      ]
     },
     "metadata": {},
     "output_type": "display_data"
    }
   ],
   "source": [
    "#create 3d array, with the appropriate angular size and number of bins corresponding to the energy bins\n",
    "\n",
    "twosources050 = np.zeros((numbins,leng,leng))\n",
    "\n",
    "#Define the coordinates of the two sources. These are in the middle y -scale and a distance 0.5 degrees from the middle point in the x direction\n",
    "#First, let's state the coordinates of the two sources, latitde and longitude\n",
    "#in galactic coordinates\n",
    "#longitude in l, latitude in b\n",
    "# longitude is the x-like coordinate, latitude is the y-like coordinate\n",
    "\n",
    "\n",
    "\n",
    "source1l = upx - 10.0 - 0.25\n",
    "source1b = upy - 10.0\n",
    "\n",
    "source2l = upx - 10.0 + 0.25\n",
    "source2b = upy - 10.0\n",
    "\n",
    "pospix1x_050 = pixelposx(source1l,upx,binlen) \n",
    "pospix1y_050 = pixelposy(source1b,upy,binlen)\n",
    "pospix2x_050 = pixelposx(source2l,upx,binlen) \n",
    "pospix2y_050 = pixelposy(source2b,upy,binlen)\n",
    "\n",
    "#Ready to populate the array\n",
    "\n",
    "for i in range (0,numbins):\n",
    "    twosources050[i][pospix1y_050][pospix1x_050] = counts[i]\n",
    "    twosources050[i][pospix2y_050][pospix2x_050] = counts[i]\n",
    "    \n",
    "    \n",
    "hdu4 = fits.PrimaryHDU()\n",
    "hdu4.data=twosources050\n",
    "\n",
    "hdu4.writeto('10GeV_Fermi_TwoSources_050separation.fits', clobber = True)\n",
    "\n",
    "fig=plt.figure(figsize=(10.0, 10.0))\n",
    "plt.imshow(hdu4.data[9], extent=[upx,lowx,lowy,upy])\n",
    "plt.autoscale(False)\n",
    "plt.xlim(upx,lowx)\n",
    "plt.ylim(lowy,upy)\n",
    "\n",
    "plt.colorbar()"
   ]
  },
  {
   "cell_type": "markdown",
   "metadata": {},
   "source": [
    "#### Model 6 : No-cocentric distribution of sources.  Sources J2212.5+0703 and J221251+064604\n",
    "\n",
    "In the paper of Hooper et. al. it is mentioned that: \n",
    "\n",
    "\"The best fit found in this exercise was for a point source at the location of BZQ J2212+0646/CRATES J221251+064604 and a second point source at or near the location of 3FGL J2212.5+0703\"\n",
    "\n",
    "Here, we consider that model as well"
   ]
  },
  {
   "cell_type": "code",
   "execution_count": 11,
   "metadata": {
    "collapsed": false
   },
   "outputs": [
    {
     "data": {
      "text/plain": [
       "<matplotlib.colorbar.Colorbar at 0x1174e3518>"
      ]
     },
     "execution_count": 11,
     "metadata": {},
     "output_type": "execute_result"
    },
    {
     "data": {
      "image/png": "[encoded data removed]",
      "text/plain": [
       "<matplotlib.figure.Figure at 0x1143f7198>"
      ]
     },
     "metadata": {},
     "output_type": "display_data"
    }
   ],
   "source": [
    "#create 3d array, with the appropriate angular size and number of bins corresponding to the energy bins\n",
    "\n",
    "twosources_bf = np.zeros((numbins,leng,leng))\n",
    "\n",
    "#define the coordinates of the two sources\n",
    "#Source 1 is the  J2212.5+0703\n",
    "#Source 2 is the J221251+064604\n",
    "\n",
    "source1l = 68.7423\n",
    "source1b = -38.5648\n",
    "\n",
    "source2l = 68.52764 \n",
    "source2b = -38.81095\n",
    "\n",
    "pospix1x_bf = pixelposx(source1l,upx,binlen) \n",
    "pospix1y_bf = pixelposy(source1b,upy,binlen)\n",
    "pospix2x_bf = pixelposx(source2l,upx,binlen) \n",
    "pospix2y_bf = pixelposy(source2b,upy,binlen)\n",
    "\n",
    "#Ready to populate the array\n",
    "\n",
    "for i in range (0,numbins):\n",
    "    twosources_bf[i][pospix1y_bf][pospix1x_bf] = counts[i]\n",
    "    twosources_bf[i][pospix2y_bf][pospix2x_bf] = counts[i]\n",
    "    \n",
    "hdu5 = fits.PrimaryHDU()\n",
    "hdu5.data=twosources_bf\n",
    "\n",
    "hdu5.writeto('10GeV_Fermi_TwoSources_BestFit.fits', clobber = True)\n",
    "\n",
    "fig=plt.figure(figsize=(10.0, 10.0))\n",
    "plt.imshow(hdu5.data[9], extent=[upx,lowx,lowy,upy])\n",
    "plt.autoscale(False)\n",
    "plt.xlim(upx,lowx)\n",
    "plt.ylim(lowy,upy)\n",
    "\n",
    "plt.colorbar()    \n",
    "\n"
   ]
  },
  {
   "cell_type": "code",
   "execution_count": null,
   "metadata": {
    "collapsed": true
   },
   "outputs": [],
   "source": []
  },
  {
   "cell_type": "code",
   "execution_count": null,
   "metadata": {
    "collapsed": true
   },
   "outputs": [],
   "source": []
  }
 ],
 "metadata": {
  "anaconda-cloud": {},
  "kernelspec": {
   "display_name": "Python [conda root]",
   "language": "python",
   "name": "conda-root-py"
  },
  "language_info": {
   "codemirror_mode": {
    "name": "ipython",
    "version": 3
   },
   "file_extension": ".py",
   "mimetype": "text/x-python",
   "name": "python",
   "nbconvert_exporter": "python",
   "pygments_lexer": "ipython3",
   "version": "3.5.2"
  }
 },
 "nbformat": 4,
 "nbformat_minor": 1
}
