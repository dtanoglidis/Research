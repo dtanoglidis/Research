{
 "cells": [
  {
   "cell_type": "markdown",
   "metadata": {},
   "source": [
    "## Creation of  FITS files containing the number of events per pixel and energy bin for two cases: two point sources and one extended source \n",
    "\n",
    "In this notebook, I am trying to do the following: Get the spectrum of gamma rays of DM annihilation via the $b \\bar{b}$ channel, for DM particle mass of $30$GeV, use a suitable binning and then create FITS files/ images containing the flux in each energy bin in two cases: two nearby point sources and one extendended sources."
   ]
  },
  {
   "cell_type": "markdown",
   "metadata": {},
   "source": [
    "Let's start. First we read from the file created using the PYTHIA simulation the columns corresponding to mass of the dark matter particle, $M_{dm}$, the quantities $\\log_{10}x$ and $dN/d\\log_{10} x$, where $x \\equiv E/M_{dm}$ of the produced photons via the $b\\bar{b}$ channel. We select and create arrays of the \"energy\" ($\\log_{10}x$) and \"spectrum\" ($dN\\log_{10} x$) of photons corresponding to the the selected Dark Matter mass (in GeV). We select 30 GeV, but we are free to change this."
   ]
  },
  {
   "cell_type": "markdown",
   "metadata": {},
   "source": [
    "### Part A: Binning and events number counting"
   ]
  },
  {
   "cell_type": "code",
   "execution_count": 87,
   "metadata": {
    "collapsed": true
   },
   "outputs": [],
   "source": [
    "import numpy as np\n",
    "import matplotlib\n",
    "import matplotlib.pyplot as plt\n",
    "%matplotlib inline \n",
    "\n",
    "#We open and read the file containing the spectrum. The file should be at the same directory as our script/notebook\n",
    "mass, energ, bibibar = np.loadtxt(\"AtProduction_gammas.dat\", usecols=(0,1,13), unpack=3)\n",
    "\n",
    "\n",
    "#since we don't know the size of the file, let's find the length of the columns. Find the upper limit; \n",
    "#when then we are going to run a for loop, we will know the range\n",
    "a = np.shape(mass)\n",
    "uplim=a[0]-1\n",
    "\n",
    "#Choose the mass of the Dark Matter particle; here 30GeV - units in the file are in GeV\n",
    "mdm = 30.0\n",
    "\n",
    "#Now, let us find how many entries have that value. We will need this number in a while.\n",
    "\n",
    "size=0\n",
    "for i in range (0,uplim):\n",
    "    if (mass[i] == mdm):\n",
    "        size +=1\n",
    "        \n",
    "#size is the number of entries corresponding to the specific value of mass. Let us create two arrays with zeros, of that size.\n",
    "# The titles are logex and diendlogex, which are quite descriptive about what they contain (what they are going to contain).\n",
    "\n",
    "logex = np.zeros(size)\n",
    "diendlogex = np.zeros(size)\n",
    "\n",
    "#Let's populate the arrays logex, diendlogex\n",
    "# x=photon energy / dark matter particle mass\n",
    "\n",
    "j = 0 \n",
    "for i in range (0,uplim):\n",
    "    if (mass[i] == mdm):\n",
    "        logex[j] = energ[i]\n",
    "        diendlogex[j] = bibibar[i]\n",
    "        j +=1\n",
    "\n"
   ]
  },
  {
   "cell_type": "code",
   "execution_count": 88,
   "metadata": {
    "collapsed": true
   },
   "outputs": [],
   "source": [
    "#Remember, each array starts from zero. Useful to define the number size-1, call it n, which will serve as an upper limit\n",
    "\n",
    "n = size -1\n",
    "\n",
    "#just useful when we want to find the entry with the maximum index\n",
    "#If we generally want to run a loop, limits 0,size are the approptiate "
   ]
  },
  {
   "cell_type": "markdown",
   "metadata": {},
   "source": [
    "Now: $\\log_{10}x = \\log_{10} \\frac{E}{M_{dm}} = \\log_{10} \\frac{E}{GeV} \\frac{GeV}{M_{dm}} \\Rightarrow \\log_{10} \\frac{E}{GeV} = \\log_{10}x + \\log_{10} \\frac{M_{dm}}{GeV} $. Since everything is expressed in GeV, is easy to create the array  \n",
    "containing the logs of the energies:"
   ]
  },
  {
   "cell_type": "code",
   "execution_count": 89,
   "metadata": {
    "collapsed": true
   },
   "outputs": [],
   "source": [
    "logE = logex + np.log10(mdm) "
   ]
  },
  {
   "cell_type": "markdown",
   "metadata": {},
   "source": [
    "The other one does not require adjustment. $dN/d \\log_{10} x = \\ln10 x dN/dx = \\ln10 \\,E \\, \\frac{dN}{dE}$. So, remain as it is. \n"
   ]
  },
  {
   "cell_type": "code",
   "execution_count": 90,
   "metadata": {
    "collapsed": true
   },
   "outputs": [],
   "source": [
    "dNdlogE = diendlogex"
   ]
  },
  {
   "cell_type": "markdown",
   "metadata": {},
   "source": [
    "Now, let's get an idea of the range of energies we have. \n",
    "\n",
    "Print the lowest and maximum energies of photons."
   ]
  },
  {
   "cell_type": "code",
   "execution_count": 91,
   "metadata": {
    "collapsed": false
   },
   "outputs": [
    {
     "name": "stdout",
     "output_type": "stream",
     "text": [
      "minimum energy - in GeV:\n",
      "3.77677623538e-08\n",
      "maximum energy - in GeV:\n",
      "30.0\n"
     ]
    }
   ],
   "source": [
    "print(\"minimum energy - in GeV:\")\n",
    "print(np.power(10,logenerg[0]))\n",
    "print(\"maximum energy - in GeV:\")\n",
    "print(np.power(10,logenerg[n]))"
   ]
  },
  {
   "cell_type": "markdown",
   "metadata": {},
   "source": [
    "We see that we get a pretty good range of energies. Of course we are interested in one more limited range of photon energies. \n",
    "\n",
    "We want to calculate the number of counts for a number of (logarithmic bins).\n",
    "\n",
    "Denote $b = dN / d\\log_{10} E$. Thus, in a bin :\n",
    "\n",
    "\\begin{equation}\n",
    "N = time \\times \\int_{\\log E_{low}}^{\\log E_{up}} \\frac{dN}{d\\log E} A_{eff}(\\log E)  d\\log E\n",
    "\\end{equation}\n",
    "\n",
    "Since we have to multiply by the total exposure time and also in the integration we have to take into account the $A_{eff}(E)$ (integrate over it)."
   ]
  },
  {
   "cell_type": "code",
   "execution_count": 92,
   "metadata": {
    "collapsed": false
   },
   "outputs": [
    {
     "name": "stdout",
     "output_type": "stream",
     "text": [
      "8\n"
     ]
    }
   ],
   "source": [
    "#energies, bins from 0, size \n",
    "\n",
    "\n",
    "#Let's choose energies of photons. Remember energy is given in Gev\n",
    "\n",
    "#Starting energy of photons in GeV\n",
    "\n",
    "Est = 1.0\n",
    "\n",
    "#Maximum energy = equal to the dark matter mass\n",
    "\n",
    "Eend = mdm\n",
    "\n",
    "#Since we work in log space, let's define their logarithms\n",
    "\n",
    "logstart = np.log10(Est)\n",
    "logend = np.log10(Eend)\n",
    "\n",
    "#Now, define the number length of logarithmic step. Let's take it equal to 1/5\n",
    "#This is the inverse of the number of bins per decade\n",
    "\n",
    "logstep = 1.0/5.0 \n",
    "\n",
    "#Let's find the number of energy bins:\n",
    "\n",
    "numbins = int((logend-logstart)/logstep)+1\n",
    "\n",
    "print(numbins)\n",
    "\n",
    "#Create empty array, with number of entries equal to the number of bins, which we are going to populate\n",
    "\n",
    "counts = np.zeros(numbins)\n",
    "\n",
    "\n",
    "# We will also need the Effective area of the fermiLAT \n",
    "#In the following Aenerg is the energy -warning it is given in Mev- and Aeff the effective energy (in M^2)\n",
    "\n",
    "\n",
    "Aenerg, Aeff = np.loadtxt(\"A_eff_FermiLAT.dat\", usecols=(0,1), unpack=3)\n",
    "\n",
    "#Now the energy is given in MeV. We need to convert this in GeV and also we need actually its logarithm\n",
    "#define logAenerg\n",
    "\n",
    "logAenerg = np.log10(Aenerg/1000.0)\n",
    "\n",
    "#Thus, Aeff is now function of the log of the energy \n",
    "\n",
    "\n",
    "#Let's now use interpolation in order to have a value corresponding to dN/dlogE for every\n",
    "#Also a interpolation in order to get a value for every energy for Aeff\n",
    "\n",
    "from scipy import interpolate\n",
    "\n",
    "intrpdNdlogE = interpolate.splrep(logE, dNdlogE, s=0)\n",
    "intrpAeff = interpolate.splrep(logAenerg, Aeff, s=0)\n",
    "\n",
    "\n",
    "#Function which implements a trapezoidal rule integration\n",
    "#For the integrated function, see above \n",
    "\n",
    "def integralino(a,b):\n",
    "    #Number of points\n",
    "    nu = 1000\n",
    "    #step \n",
    "    h = (b - a)/nu\n",
    "    summa = 0.0\n",
    "    for j in range (0,nu):\n",
    "        x1 = a + j*h\n",
    "        x2 = x1 + h\n",
    "        q1 = (interpolate.splev(x1, intrpdNdlogE, der = 0))*(interpolate.splev(x1, intrpAeff, der = 0))\n",
    "        q2 = (interpolate.splev(x2, intrpdNdlogE, der = 0))*(interpolate.splev(x2, intrpAeff, der = 0))\n",
    "        summa = summa +  q1 + q2\n",
    "    summa = summa*h/2.0\n",
    "    return summa\n",
    "\n",
    "\n",
    "#So, we now have an array with as many cells as the number of energy bins. Let's populate them.\n",
    "# We will also need total exposure time\n",
    "\n",
    "years=10\n",
    "frac_year = 0.2\n",
    "sec_year = 365*24*3600 \n",
    "\n",
    "#exposure time\n",
    "\n",
    "texp = years*frac_year*sec_year\n",
    "\n",
    "for i in range (0,numbins):\n",
    "    ll = logstart + i*logstep         #upper limit of the energy bin\n",
    "    ul = logstart + (i+1)*logstep     #lower limit of the energy bin\n",
    "    if (ul > logend):                 #special case, accounts for the last cell\n",
    "        ul = logend\n",
    "    counts[i] = texp*integralino(ll, ul)\n",
    "\n",
    "# Erase the comment symbol in order to see the number of counts\n",
    "# print(counts)\n"
   ]
  },
  {
   "cell_type": "markdown",
   "metadata": {},
   "source": [
    "## Creation of FITS files\n"
   ]
  },
  {
   "cell_type": "markdown",
   "metadata": {},
   "source": [
    "### Case 1 - Two point sources"
   ]
  },
  {
   "cell_type": "code",
   "execution_count": 109,
   "metadata": {
    "collapsed": false
   },
   "outputs": [],
   "source": [
    "#First, let's state the coordinates of the two sources, latitde and longitude\n",
    "#in galactic coordinates\n",
    "#longitude in l, latitude in b\n",
    "# longitude is the x-like coordinate, latitude is the y-like coordinate\n",
    "\n",
    "#source1 is J221251+064604\n",
    "#source2 is J221408+071128\n",
    "\n",
    "source1l = 68.52764\n",
    "source1b = -38.81095\n",
    "\n",
    "source2l = 69.20910\n",
    "source2b = -38.75225\n",
    "\n",
    "#define angular length of each side of the bin\n",
    "\n",
    "binln = 0.05\n",
    "\n",
    "#we want a 20*20 degrees box\n",
    "\n",
    "leng = int(20.0/binln)\n",
    "\n",
    "#create 3d array, with the appropriate angular size and number of bins corresponding to the energy bins\n",
    "\n",
    "twosources = np.zeros((numbins,leng,leng))\n",
    "\n",
    "#Now, let's make a choice for the coordinates of the upper left point \n",
    "#We define it to be 10 degrees of in each direction \n",
    "\n",
    "upx = (source1l+source2l)/2.0 - 10.0 \n",
    "upy = (source2b+source2b)/2.0 + 10\n",
    "\n",
    "\n",
    "#Find and the other limits\n",
    "\n",
    "lowx = upx+20.0\n",
    "lowy = upy-20.0\n",
    "\n",
    "#find now the pixel positions of the two points\n",
    "\n",
    "def pixelposx(x,ux,binln):\n",
    "    posx = int((ux -x)/binln)\n",
    "    return posx\n",
    "\n",
    "\n",
    "def pixelposy(y,uy,binln):\n",
    "    posy = int((uy - y)/binln)\n",
    "    return posy\n",
    "\n",
    "\n",
    " \n",
    "    \n",
    "pospix1x = pixelposx(source1l,upx,binln) \n",
    "pospix1y = pixelposy(source1b,upy,binln)\n",
    "pospix2x = pixelposx(source2l,upx,binln) \n",
    "pospix2y = pixelposy(source2b,upy,binln) \n",
    "\n",
    "\n",
    "#Ready to populate the array\n",
    "\n",
    "for i in range (0,numbins):\n",
    "    twosources[i][pospix1x][pospix1y] = counts[i]\n",
    "    twosources[i][pospix2x][pospix2y] = counts[i]\n",
    "\n",
    "\n",
    "\n"
   ]
  },
  {
   "cell_type": "code",
   "execution_count": 115,
   "metadata": {
    "collapsed": false
   },
   "outputs": [
    {
     "data": {
      "text/plain": [
       "<matplotlib.colorbar.Colorbar at 0x1163b9160>"
      ]
     },
     "execution_count": 115,
     "metadata": {},
     "output_type": "execute_result"
    },
    {
     "data": {
      "image/png": "[encoded data removed]",
      "text/plain": [
       "<matplotlib.figure.Figure at 0x10e376c18>"
      ]
     },
     "metadata": {},
     "output_type": "display_data"
    }
   ],
   "source": [
    "from astropy.io import fits\n",
    "\n",
    "hdu = fits.PrimaryHDU()\n",
    "hdu.data=twosources\n",
    "\n",
    "hdu.writeto('twosources.fits', clobber = True)\n",
    "\n",
    "fig=plt.figure(figsize=(8.0, 8.0))\n",
    "plt.imshow(hdu.data[7], extent=[lowx,upx,lowy,upy])\n",
    "plt.autoscale(False)\n",
    "plt.xlim(lowx,upx)\n",
    "plt.ylim(lowy,upy)\n",
    "\n",
    "plt.colorbar()\n"
   ]
  },
  {
   "cell_type": "code",
   "execution_count": null,
   "metadata": {
    "collapsed": true
   },
   "outputs": [],
   "source": []
  },
  {
   "cell_type": "code",
   "execution_count": null,
   "metadata": {
    "collapsed": true
   },
   "outputs": [],
   "source": []
  },
  {
   "cell_type": "code",
   "execution_count": null,
   "metadata": {
    "collapsed": true
   },
   "outputs": [],
   "source": []
  },
  {
   "cell_type": "code",
   "execution_count": null,
   "metadata": {
    "collapsed": true
   },
   "outputs": [],
   "source": []
  },
  {
   "cell_type": "code",
   "execution_count": null,
   "metadata": {
    "collapsed": true
   },
   "outputs": [],
   "source": []
  },
  {
   "cell_type": "code",
   "execution_count": null,
   "metadata": {
    "collapsed": true
   },
   "outputs": [],
   "source": []
  },
  {
   "cell_type": "code",
   "execution_count": null,
   "metadata": {
    "collapsed": true
   },
   "outputs": [],
   "source": []
  }
 ],
 "metadata": {
  "anaconda-cloud": {},
  "kernelspec": {
   "display_name": "Python [conda root]",
   "language": "python",
   "name": "conda-root-py"
  },
  "language_info": {
   "codemirror_mode": {
    "name": "ipython",
    "version": 3
   },
   "file_extension": ".py",
   "mimetype": "text/x-python",
   "name": "python",
   "nbconvert_exporter": "python",
   "pygments_lexer": "ipython3",
   "version": "3.5.2"
  }
 },
 "nbformat": 4,
 "nbformat_minor": 1
}
