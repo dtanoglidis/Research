{
 "cells": [
  {
   "cell_type": "markdown",
   "metadata": {},
   "source": [
    "## Creation of an extended NFW source "
   ]
  },
  {
   "cell_type": "markdown",
   "metadata": {
    "collapsed": false
   },
   "source": [
    "Our goal now is to create files that contain the photon distribution in a patch of the sky, for an extended source that is modelled as a subhalo that follows a truncated NFW. We assume thus that:\n",
    "\n",
    "$$ \\rho(r) \\propto \\frac{1}{r},$$\n",
    "\n",
    "for $r< R_t$ and $\\rho(r) = 0$ for $r> R_t$,\n",
    "\n",
    "where $r$ the distance from the center of the (sub) halo and $R_t$ the truncation radius:\n",
    "\n",
    "\\begin{equation}\n",
    "r(\\theta, d, l) = \\sqrt{d^2 + l^2 - 2dlcos\\theta} \\qquad (1)\n",
    "\\end{equation}\n",
    "\n",
    "where $l$ is distance along the line of sight, $d$ the distance to the center of the subhalo and $\\theta$ is the angle to the center of the subhalo. \n",
    "\n",
    "The total light at an angle $\\theta$ from the center of subhalo is proportional to the $J$ factor, we define as:\n",
    "\n",
    "\n",
    "\n",
    "$$J(\\theta) \\propto \\int_{\\mbox{l.o.s}} \\rho^2[r(d,l,\\theta)]\\,\\, dl \\propto \\int_{\\mbox{l.o.s}} \\frac{1}{r^2(d,l,\\theta)} dl$$\n",
    "\n",
    "\n",
    "\n",
    "We want to find the limits of integration along the line of sight at a given angle $\\theta$. These corespond to values of $l$ for which we have that $r = R_t$. Thus, we solve:\n",
    "\n",
    "\\begin{equation}\n",
    "R_t^2 = d^2 + l^2 - 2dl\\cos\\theta\n",
    "\\end{equation}\n",
    "\n",
    "The two independent solutions are (for small values of $\\theta$):\n",
    "\n",
    "\\begin{equation}\n",
    "l_{\\pm} = d \\pm \\sqrt{R_t^2 -(d \\theta)^2} \\qquad (2)\n",
    "\\end{equation}\n",
    "\n",
    "For:\n",
    "\\begin{equation}\n",
    "\\theta < \\frac{R_t}{d} \\qquad (3)\n",
    "\\end{equation}\n",
    "\n",
    "\n",
    "Our final goal is to find the number of photons we receive from each \"point\" looking at a patch of the sky towards that source. We would like to get rid of the parameters $R_t$ and $d$ and instead introduce an angular parameter, call it $\\sigma$, as we did when we used a Gaussian to describe spatial extension.\n",
    "\n",
    "Define $\\sigma$ as the angular scale inside which is the 68$\\%$ of the total received light.\n",
    "\n",
    "Let's suppose that the 100$\\%$ of the light is included in a region of angular radius $5\\sigma$.\n",
    "\n",
    "Of course this angular scale corresponds to the angle that the truncation radius subtents from our point of view. \n",
    "Thus:\n",
    "\n",
    "\\begin{equation}\n",
    "\\tan 5\\sigma = \\frac{R_t}{d} \\Rightarrow \\frac{R_t}{d} \\cong 5\\sigma \\qquad (4)\n",
    "\\end{equation}\n",
    "\n",
    "assuming that $\\sigma$ is small (this is an assumption that has to hold in order our analysis so far to be correct).\n",
    "\n",
    "Thus, the limits of integration (3) can be written: \n",
    "\n",
    "\\begin{equation}\n",
    "l_{\\pm} = d \\pm \\sqrt{d^2\\left(\\frac{R_t^2}{d^2} - \\theta^2\\right)} = d\\left(1 \\pm 5\\sigma \\sqrt{1 - \\left(\\frac{\\theta}{5\\sigma} \\right)^2} \\right) \\qquad (5)\n",
    "\\end{equation}\n",
    "\n",
    "defining:\n",
    "$$\\alpha_\\pm \\equiv \\left(1 \\pm 5\\sigma \\sqrt{1 - \\left(\\frac{\\theta}{5\\sigma} \\right)^2} \\right) \\qquad (6)$$\n",
    "\n",
    "we can simplify the expression for the limits:\n",
    "\n",
    "$$l_\\pm = d \\alpha_\\pm \\qquad (7)$$ \n",
    "\n",
    "Let's write again the $J$ factor (introduce a normalization constant $A$ in front).\n",
    "\n",
    "\\begin{equation}\n",
    "J(\\theta) = A \\int_{d\\alpha_-}^{d\\alpha_+} \\, \\frac{1}{d^2+l^2-2dl\\cos\\theta}dl\n",
    "\\end{equation} \n",
    "\n",
    "Introduce now the parameter $u$, such as $l = d \\cdot u$ (not $du$, differential here). Since $d$ is constant $dl = d \\cdot du$ (here $du$ differential). The limits of the integral become $a_{\\pm}$. so, performing this change of variables:\n",
    "\n",
    "\\begin{equation}\n",
    "J(\\theta) = A \\int_{\\alpha_-}^{\\alpha_+} \\frac{d}{d^2 + d^2u^2 - 2d^2u\\cos\\theta}du \\Rightarrow \\boxed{J(\\theta) = \\frac{A}{d} \\int_{\\alpha_-}^{\\alpha_+} \\, \\frac{1}{1+u^2 - 2u \\cos\\theta} du \\qquad (8)}\n",
    "\\end{equation}\n",
    "\n",
    "Now, we have to deal with two problems. First to find the normalization constant.  Second, note that integral (8) diverges when $ r \\to 0$, or $\\theta \\to 0$. We'll try to solve both. \n",
    "\n",
    "We have assumed that in a region of angular radius $5\\sigma$ is enclosed the total light of the subhalo. To get the total light we have thus to integrate (8) from $\\theta = 0$ to $\\theta = 5\\sigma$ and then multiply by $2\\pi$ since we have to sweep a full circle to cover the whole area. Thus, the normalised angular distribution of photons is given by:\n",
    "\n",
    "\\begin{equation}\n",
    "\\displaystyle\n",
    "p(\\theta) = \\frac{J(\\theta)}{2\\pi \\int_0^{5\\sigma} \\theta \\, J(\\theta)\\, d\\theta}  = \\frac{J(\\theta)}{2\\pi \\int_0^{5\\sigma} \\, d\\theta \\, \\theta \\, \\frac{A}{d}\\int_{\\alpha_-}^{\\alpha_+} \\frac{1}{1+u^2-2u\\cos\\theta}du}  \n",
    "= \\frac{\\int_{\\alpha_-}^{\\alpha_+} \\frac{1}{1+u^2-2u\\cos\\theta}du}{2\\pi \\int_0^{5\\sigma} \\, d\\theta \\, \\theta \\, \\int_{\\alpha_-}^{\\alpha_+} \\frac{1}{1+u^2-2u\\cos\\theta}du} \\qquad (9)\n",
    "\\end{equation}\n",
    "\n",
    "Is the above formula correct? First of all, it seems that we can peak any $\\sigma$ we want. But who guarantees  that indeed the $68 \\%$ of the total light will be inside that radius? \n",
    "\n",
    "Second, as we have said, the integral diverges for $\\theta \\to 0$. We have to introduce a minimum cutoff scale $\\theta_c$, and consider only $\\theta > \\theta_c$. How can we choose $\\theta_c$? We'll find $\\theta_c$ by demanding the $68\\%$ of the total light to be inside angular radius $\\sigma$:\n",
    "\n",
    "\\begin{equation}\n",
    "\\frac{\\int_{\\theta_c}^{\\sigma} \\, d\\theta \\, \\theta \\,\\int_{\\alpha_-}^{\\alpha_+} \\frac{1}{1+u^2-2u\\cos\\theta}du}{ \\int_{\\theta_c}^{5\\sigma} \\, d\\theta \\, \\theta \\, \\int_{\\alpha_-}^{\\alpha_+} \\frac{1}{1+u^2-2u\\cos\\theta}du} = 0.68 \\qquad (10)\n",
    "\\end{equation}\n",
    "\n",
    "For a $\\mathbf{given}$ $\\sigma$ eq. (10) has to be solved numerically in order to find $\\theta_c$. In our case we will choose $\\sigma = 0.25$ degrees (but remember - all calculations have to be done in rads) in order to agree with the previous case.\n",
    "\n",
    "Also, formula (9) becomes:\n",
    "\n",
    "\\begin{equation}\n",
    "p(\\theta) = \\frac{\\int_{\\alpha_-}^{\\alpha_+} \\frac{1}{1+u^2-2u\\cos\\theta}du}{2\\pi \\int_{\\theta_c}^{5\\sigma} \\, d\\theta \\, \\theta \\, \\int_{\\alpha_-}^{\\alpha_+} \\frac{1}{1+u^2-2u\\cos\\theta}du} \\qquad (11)\n",
    "\\end{equation}\n",
    "\n",
    "And applies for $\\theta > \\theta_c$.\n",
    "\n",
    "\n",
    "Let's try now to solve eq. (10) for $\\sigma = 0.25^o$. In order to be consistent, we expect $\\theta_c << \\sigma$."
   ]
  },
  {
   "cell_type": "code",
   "execution_count": 1,
   "metadata": {
    "collapsed": true
   },
   "outputs": [],
   "source": [
    "import numpy as np\n",
    "import scipy.integrate as integrate\n",
    "import matplotlib\n",
    "import matplotlib.pyplot as plt\n",
    "%matplotlib inline "
   ]
  },
  {
   "cell_type": "markdown",
   "metadata": {
    "collapsed": true
   },
   "source": [
    "In what follows, we calculate $\\theta_c$ using the bisection methon."
   ]
  },
  {
   "cell_type": "code",
   "execution_count": 12,
   "metadata": {
    "collapsed": false
   },
   "outputs": [
    {
     "name": "stderr",
     "output_type": "stream",
     "text": [
      "//anaconda/lib/python3.5/site-packages/scipy/integrate/quadpack.py:356: IntegrationWarning: The occurrence of roundoff error is detected, which prevents \n",
      "  the requested tolerance from being achieved.  The error may be \n",
      "  underestimated.\n",
      "  warnings.warn(msg, IntegrationWarning)\n",
      "//anaconda/lib/python3.5/site-packages/scipy/integrate/quadpack.py:356: IntegrationWarning: The maximum number of subdivisions (50) has been achieved.\n",
      "  If increasing the limit yields no improvement it is advised to analyze \n",
      "  the integrand in order to determine the difficulties.  If the position of a \n",
      "  local difficulty can be determined (singularity, discontinuity) one will \n",
      "  probably gain from splitting up the interval and calling the integrator \n",
      "  on the subranges.  Perhaps a special-purpose integrator should be used.\n",
      "  warnings.warn(msg, IntegrationWarning)\n"
     ]
    },
    {
     "name": "stdout",
     "output_type": "stream",
     "text": [
      "Critical angle in degrees is:\n",
      "0.024236581337787173\n",
      "Value of the function is:\n",
      "-2.682298827494378e-13\n"
     ]
    }
   ],
   "source": [
    "# Degree to rad and rad to degree conversions\n",
    "\n",
    "degrad = 0.0174533 #degrees to rads\n",
    "raddeg = 57.29575 #rads to degrees\n",
    "\n",
    "#-------------------------------------------------\n",
    "\n",
    "# Now define a sigma, the sigma you want in DEGREES\n",
    "\n",
    "sigma = 0.25\n",
    "\n",
    "# Contvert this to rad\n",
    "\n",
    "sigma = sigma*degrad\n",
    "\n",
    "#-------------------------------------------------\n",
    "\n",
    "# In this section define the bisection function\n",
    "\n",
    "def samesign(a,b):\n",
    "    return a*b > 0\n",
    "\n",
    "\n",
    "def bisection(func, low, high):\n",
    "    'Find root of continuous function where f(low) and f(high) have opposite signs'\n",
    "    \n",
    "    assert not samesign(func(low), func(high))\n",
    "    \n",
    "    for i in range(60):\n",
    "        midpoint = (low + high) / 2.0\n",
    "        if samesign(func(low), func(midpoint)):\n",
    "            low = midpoint\n",
    "        else:\n",
    "            high = midpoint\n",
    "    return midpoint\n",
    "#--------------------------------------------------\n",
    "\n",
    "# In this section define funtion for integration and limits\n",
    "\n",
    "#Note that there are two double integrals. The limits of both integrals in u are the same, but the limits in theta are not\n",
    "\n",
    "def integrand(u, thet):\n",
    "    integr = 1.0/(1.0 + u**2.0 -2.0*u*np.cos(thet))\n",
    "    return integr\n",
    "\n",
    "#bounds in u\n",
    "\n",
    "def bounds_u(thet):\n",
    "    aminus = 1.0 - 5.0*sigma*np.sqrt(1.0 - (thet/(5*sigma))**2.0)\n",
    "    aplus = 1.0 + 5.0*sigma*np.sqrt(1.0 - (thet/(5*sigma))**2.0)\n",
    "    return [aminus, aplus]\n",
    "\n",
    "# -------------------------------------------\n",
    "\n",
    "# In this section we define the function whose root we want to find\n",
    "\n",
    "\n",
    "def func_root(x):\n",
    "    Integ1 = integrate.nquad(integrand, [bounds_u, [x, sigma]])\n",
    "    Integ1 = Integ1[0]\n",
    "    Integ2 = integrate.nquad(integrand, [bounds_u, [x, 5.0*sigma]])\n",
    "    Integ2 = Integ2[0]\n",
    "    return Integ1/Integ2 - 0.68\n",
    "#-----------------------------------------\n",
    "\n",
    "# Now we are almost ready to perform the bisection and find the root - the angle theta_c \n",
    "\n",
    "# We have to define limits\n",
    "\n",
    "#upper limit set equal to sigma. lower limit equal to 1e-4 sigma\n",
    "\n",
    "lowlimit = (1e-4)*sigma\n",
    "uplimit = sigma\n",
    "\n",
    "theta_crit = bisection(func_root, lowlimit, uplimit)\n",
    "\n",
    "functval = func_root(theta_crit)\n",
    "\n",
    "# convert now theta critical to degrees\n",
    "\n",
    "theta_crit = theta_crit*raddeg\n",
    "\n",
    "print('Critical angle in degrees is:')\n",
    "print(theta_crit)\n",
    "\n",
    "print('Value of the function is:')\n",
    "print(functval)"
   ]
  },
  {
   "cell_type": "code",
   "execution_count": null,
   "metadata": {
    "collapsed": true
   },
   "outputs": [],
   "source": []
  },
  {
   "cell_type": "code",
   "execution_count": null,
   "metadata": {
    "collapsed": true
   },
   "outputs": [],
   "source": []
  },
  {
   "cell_type": "code",
   "execution_count": null,
   "metadata": {
    "collapsed": true
   },
   "outputs": [],
   "source": []
  },
  {
   "cell_type": "code",
   "execution_count": null,
   "metadata": {
    "collapsed": true
   },
   "outputs": [],
   "source": []
  }
 ],
 "metadata": {
  "anaconda-cloud": {},
  "kernelspec": {
   "display_name": "Python [conda root]",
   "language": "python",
   "name": "conda-root-py"
  },
  "language_info": {
   "codemirror_mode": {
    "name": "ipython",
    "version": 3
   },
   "file_extension": ".py",
   "mimetype": "text/x-python",
   "name": "python",
   "nbconvert_exporter": "python",
   "pygments_lexer": "ipython3",
   "version": "3.5.2"
  }
 },
 "nbformat": 4,
 "nbformat_minor": 1
}
